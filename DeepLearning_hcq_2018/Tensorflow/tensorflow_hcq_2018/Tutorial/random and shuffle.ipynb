{
 "cells": [
  {
   "cell_type": "code",
   "execution_count": 8,
   "metadata": {
    "collapsed": false
   },
   "outputs": [
    {
     "name": "stdout",
     "output_type": "stream",
     "text": [
      "== original ==\n",
      "[[ 5 77 26  4 51]\n",
      " [11 27 42 95  9]\n",
      " [20 18 74 58 76]\n",
      " [15 44 13 20 61]\n",
      " [48 96 99 75 49]]\n",
      "== shuffled ==\n",
      "[[ 5 77 26  4 51]\n",
      " [48 96 99 75 49]\n",
      " [11 27 42 95  9]\n",
      " [20 18 74 58 76]\n",
      " [15 44 13 20 61]]\n",
      "== x_train ==\n",
      "[[ 5 77 26  4 51]\n",
      " [48 96 99 75 49]\n",
      " [11 27 42 95  9]\n",
      " [20 18 74 58 76]]\n",
      "== x_val ==\n",
      "[[15 44 13 20 61]]\n"
     ]
    }
   ],
   "source": [
    "import tensorflow as tf\n",
    "import numpy as np\n",
    "\n",
    "data = np.random.randint(1,100,[5,5])\n",
    "print(\"== original ==\")\n",
    "print(data)\n",
    "\n",
    "num_example=data.shape[0]\n",
    "arr=np.arange(num_example)\n",
    "np.random.shuffle(arr)\n",
    "data=data[arr]\n",
    "print(\"== shuffled ==\")\n",
    "print(data)\n",
    "\n",
    "ratio=0.8\n",
    "s=np.int(num_example*ratio)\n",
    "x_train=data[:s]\n",
    "x_val=data[s:]\n",
    "print(\"== x_train ==\")\n",
    "print(x_train)\n",
    "print(\"== x_val ==\")\n",
    "print(x_val)\n",
    "\n"
   ]
  },
  {
   "cell_type": "code",
   "execution_count": null,
   "metadata": {
    "collapsed": true
   },
   "outputs": [],
   "source": []
  }
 ],
 "metadata": {
  "anaconda-cloud": {},
  "kernelspec": {
   "display_name": "Python [conda root]",
   "language": "python",
   "name": "conda-root-py"
  },
  "language_info": {
   "codemirror_mode": {
    "name": "ipython",
    "version": 3
   },
   "file_extension": ".py",
   "mimetype": "text/x-python",
   "name": "python",
   "nbconvert_exporter": "python",
   "pygments_lexer": "ipython3",
   "version": "3.5.2"
  }
 },
 "nbformat": 4,
 "nbformat_minor": 1
}
